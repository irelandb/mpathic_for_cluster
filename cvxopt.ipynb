{
 "cells": [
  {
   "cell_type": "code",
   "execution_count": 1,
   "metadata": {
    "collapsed": true
   },
   "outputs": [],
   "source": [
    "import numpy as np"
   ]
  },
  {
   "cell_type": "code",
   "execution_count": 2,
   "metadata": {
    "collapsed": true
   },
   "outputs": [],
   "source": [
    "import pandas as pd"
   ]
  },
  {
   "cell_type": "markdown",
   "metadata": {},
   "source": []
  },
  {
   "cell_type": "code",
   "execution_count": 3,
   "metadata": {
    "collapsed": true
   },
   "outputs": [],
   "source": [
    "import mpathic.utils as utils"
   ]
  },
  {
   "cell_type": "code",
   "execution_count": 4,
   "metadata": {
    "collapsed": true
   },
   "outputs": [],
   "source": [
    "df = pd.io.parsers.read_csv('/home/bill/test_seqs',delim_whitespace=True)"
   ]
  },
  {
   "cell_type": "code",
   "execution_count": 5,
   "metadata": {},
   "outputs": [
    {
     "data": {
      "text/html": [
       "<div>\n",
       "<table border=\"1\" class=\"dataframe\">\n",
       "  <thead>\n",
       "    <tr style=\"text-align: right;\">\n",
       "      <th></th>\n",
       "      <th>ct</th>\n",
       "      <th>ct_0</th>\n",
       "      <th>ct_1</th>\n",
       "      <th>seq</th>\n",
       "    </tr>\n",
       "  </thead>\n",
       "  <tbody>\n",
       "    <tr>\n",
       "      <th>0</th>\n",
       "      <td>1</td>\n",
       "      <td>1</td>\n",
       "      <td>0</td>\n",
       "      <td>AAA</td>\n",
       "    </tr>\n",
       "    <tr>\n",
       "      <th>1</th>\n",
       "      <td>2</td>\n",
       "      <td>1</td>\n",
       "      <td>1</td>\n",
       "      <td>ACC</td>\n",
       "    </tr>\n",
       "    <tr>\n",
       "      <th>2</th>\n",
       "      <td>3</td>\n",
       "      <td>1</td>\n",
       "      <td>2</td>\n",
       "      <td>AGG</td>\n",
       "    </tr>\n",
       "    <tr>\n",
       "      <th>3</th>\n",
       "      <td>2</td>\n",
       "      <td>2</td>\n",
       "      <td>0</td>\n",
       "      <td>AAT</td>\n",
       "    </tr>\n",
       "  </tbody>\n",
       "</table>\n",
       "</div>"
      ],
      "text/plain": [
       "   ct  ct_0  ct_1  seq\n",
       "0   1     1     0  AAA\n",
       "1   2     1     1  ACC\n",
       "2   3     1     2  AGG\n",
       "3   2     2     0  AAT"
      ]
     },
     "execution_count": 5,
     "metadata": {},
     "output_type": "execute_result"
    }
   ],
   "source": [
    "df"
   ]
  },
  {
   "cell_type": "code",
   "execution_count": 4,
   "metadata": {
    "collapsed": true
   },
   "outputs": [],
   "source": [
    "import mpathic.numerics as numerics"
   ]
  },
  {
   "cell_type": "code",
   "execution_count": 7,
   "metadata": {},
   "outputs": [
    {
     "name": "stdout",
     "output_type": "stream",
     "text": [
      "  (0, 4)\t1\n",
      "  (0, 8)\t1\n",
      "  (1, 5)\t1\n",
      "  (1, 9)\t1\n",
      "  (3, 4)\t1\n",
      "  (3, 11)\t1\n"
     ]
    }
   ],
   "source": [
    "seq_mat,wtrow = numerics.dataset2mutarray(df.copy(),'MAT')\n",
    "print seq_mat"
   ]
  },
  {
   "cell_type": "code",
   "execution_count": 8,
   "metadata": {},
   "outputs": [
    {
     "name": "stdout",
     "output_type": "stream",
     "text": [
      "[ True False False False False False  True False False False  True False]\n"
     ]
    }
   ],
   "source": [
    "import scipy as sp\n",
    "seq_mat_array = np.matrix(numerics.dataset2seqarray(df.copy(),'MAT'))\n",
    "print wtrow\n"
   ]
  },
  {
   "cell_type": "code",
   "execution_count": 9,
   "metadata": {
    "collapsed": true
   },
   "outputs": [],
   "source": [
    "emat = np.zeros((4,len(df.loc[0,'seq']),len(df.index)))\n",
    "seq_dict,inv_dict = utils.choose_dict('dna')\n",
    "for i,s in enumerate(df['seq'].iteritems()):\n",
    "    emat[:,:,i] = utils.seq2mat(s[1],seq_dict)"
   ]
  },
  {
   "cell_type": "code",
   "execution_count": 10,
   "metadata": {
    "collapsed": true
   },
   "outputs": [],
   "source": [
    "import cvxopt"
   ]
  },
  {
   "cell_type": "code",
   "execution_count": 11,
   "metadata": {
    "collapsed": true
   },
   "outputs": [],
   "source": [
    "q = seq_mat.nonzero()"
   ]
  },
  {
   "cell_type": "code",
   "execution_count": 12,
   "metadata": {},
   "outputs": [
    {
     "data": {
      "text/plain": [
       "(array([0, 0, 1, 1, 3, 3], dtype=int32),\n",
       " array([ 4,  8,  5,  9,  4, 11], dtype=int32))"
      ]
     },
     "execution_count": 12,
     "metadata": {},
     "output_type": "execute_result"
    }
   ],
   "source": [
    "q"
   ]
  },
  {
   "cell_type": "code",
   "execution_count": 13,
   "metadata": {
    "collapsed": true
   },
   "outputs": [],
   "source": [
    "emcvx = cvxopt.spmatrix(seq_mat.data,q[0],q[1])"
   ]
  },
  {
   "cell_type": "code",
   "execution_count": 14,
   "metadata": {},
   "outputs": [
    {
     "data": {
      "text/plain": [
       "array([ 4,  8,  5,  9,  4, 11], dtype=int32)"
      ]
     },
     "execution_count": 14,
     "metadata": {},
     "output_type": "execute_result"
    }
   ],
   "source": [
    "seq_mat.indices"
   ]
  },
  {
   "cell_type": "code",
   "execution_count": 15,
   "metadata": {},
   "outputs": [
    {
     "data": {
      "text/plain": [
       "array([0, 2, 4, 4, 6], dtype=int32)"
      ]
     },
     "execution_count": 15,
     "metadata": {},
     "output_type": "execute_result"
    }
   ],
   "source": [
    "seq_mat.indptr"
   ]
  },
  {
   "cell_type": "code",
   "execution_count": 16,
   "metadata": {},
   "outputs": [
    {
     "data": {
      "text/plain": [
       "array([ 4,  8,  5,  9,  4, 11], dtype=int32)"
      ]
     },
     "execution_count": 16,
     "metadata": {},
     "output_type": "execute_result"
    }
   ],
   "source": [
    "seq_mat.indices"
   ]
  },
  {
   "cell_type": "code",
   "execution_count": 17,
   "metadata": {},
   "outputs": [
    {
     "data": {
      "text/plain": [
       "array([0, 2, 4, 4, 6], dtype=int32)"
      ]
     },
     "execution_count": 17,
     "metadata": {},
     "output_type": "execute_result"
    }
   ],
   "source": [
    "seq_mat.indptr"
   ]
  },
  {
   "cell_type": "code",
   "execution_count": 18,
   "metadata": {},
   "outputs": [
    {
     "data": {
      "text/plain": [
       "array([[0, 0, 0, 0, 1, 0, 0, 0, 1, 0, 0, 0],\n",
       "       [0, 0, 0, 0, 0, 1, 0, 0, 0, 1, 0, 0],\n",
       "       [0, 0, 0, 0, 0, 0, 0, 0, 0, 0, 0, 0],\n",
       "       [0, 0, 0, 0, 1, 0, 0, 0, 0, 0, 0, 1]])"
      ]
     },
     "execution_count": 18,
     "metadata": {},
     "output_type": "execute_result"
    }
   ],
   "source": [
    "seq_mat.toarray()"
   ]
  },
  {
   "cell_type": "code",
   "execution_count": 34,
   "metadata": {},
   "outputs": [
    {
     "data": {
      "text/plain": [
       "matrix([[ 1.,  0.,  0.,  0.,  0.],\n",
       "        [ 0.,  2.,  0.,  0.,  0.],\n",
       "        [ 0.,  0.,  3.,  0.,  0.],\n",
       "        [ 0.,  0.,  0.,  4.,  0.],\n",
       "        [ 0.,  0.,  0.,  0.,  5.]])"
      ]
     },
     "execution_count": 34,
     "metadata": {},
     "output_type": "execute_result"
    }
   ],
   "source": [
    "np.multiply(np.identity(5),np.transpose(np.matrix([1,2,3,4,5])))"
   ]
  },
  {
   "cell_type": "code",
   "execution_count": 29,
   "metadata": {},
   "outputs": [
    {
     "name": "stdout",
     "output_type": "stream",
     "text": [
      "[    0         0         0         0      2.00e+00     0         0     ... ]\n",
      "[    0         0         0         0         0      2.00e+00     0     ... ]\n",
      "[    0         0         0         0         0         0         0     ... ]\n",
      "[    0         0         0         0      2.00e+00     0         0     ... ]\n",
      "\n",
      "[    0         0         0         0      6.00e+00     0         0     ... ]\n",
      "[    0         0         0         0         0      6.00e+00     0     ... ]\n",
      "[    0         0         0         0         0         0         0     ... ]\n",
      "[    0         0         0         0      6.00e+00     0         0     ... ]\n",
      "\n"
     ]
    }
   ],
   "source": [
    "print(2*emcvx)\n",
    "print cvxopt.mul(2*emcvx,3*emcvx)"
   ]
  },
  {
   "cell_type": "markdown",
   "metadata": {},
   "source": [
    "    emcvx.todense()"
   ]
  },
  {
   "cell_type": "code",
   "execution_count": 19,
   "metadata": {},
   "outputs": [
    {
     "data": {
      "text/plain": [
       "array([ 4,  8,  5,  9,  4, 11], dtype=int32)"
      ]
     },
     "execution_count": 19,
     "metadata": {},
     "output_type": "execute_result"
    }
   ],
   "source": [
    "seq_mat.indices"
   ]
  },
  {
   "cell_type": "code",
   "execution_count": 43,
   "metadata": {
    "collapsed": true
   },
   "outputs": [],
   "source": [
    "from cvxopt import solvers, matrix, spdiag, sqrt, div, exp\n",
    "import scipy\n",
    "import mpmath\n",
    "def robls(s, wtrow, N0, Nsm,tm,bins=1):\n",
    "    N0_matrix = np.matrix(N0)\n",
    "    tm_matrix = np.matrix(tm)\n",
    "    Nsm_matrix = np.matrix(Nsm)\n",
    "    tm_matrix_squared = np.matrix(tm**2)\n",
    "    i,c = s.shape\n",
    "    print i,c\n",
    "    #create s matrix, the elements of this matrix are delta_s@i * delta s2@j\n",
    "    #we will need this for hessian.\n",
    "    \n",
    "    s_hessian_mat = sp.sparse.lil_matrix((i,c*c))\n",
    "    for p in range(i):\n",
    "            temp_mat = (np.transpose(s[p,:])*s[p,:]).todense().ravel(order='F')\n",
    "            \n",
    "            s_hessian_mat[p,:] = scipy.sparse.csr_matrix(temp_mat)\n",
    "    print('yo')\n",
    "    def F(x=None, z=None):\n",
    "        if x is None: return 0, matrix(0.0, (c+bins,1))\n",
    "        \n",
    "        gm = np.transpose(np.array(x[c:]))\n",
    "        y = s*x[:c]\n",
    "        \n",
    "        w = (gm+y*tm)\n",
    "        \n",
    "        term2 = np.array(N0)*np.array(np.exp(w))\n",
    "        term1 = np.array(Nsm)*np.array(w)\n",
    "        \n",
    "        f = cvxopt.matrix(-np.sum(term1-term2))\n",
    "        Df = np.zeros((1,c+bins))\n",
    "        \n",
    "        Nm = np.sum(Nsm,axis=0)\n",
    "        \n",
    "        Df_gm = Nm - sum(term2)\n",
    "        \n",
    "        Df_theta =  np.transpose((Nsm - term2)*tm)*s\n",
    "    \n",
    "        Df[0,:c] = Df_theta\n",
    "        \n",
    "        Df[0,c:] = Df_gm\n",
    "        Df_cvx = cvxopt.matrix(-Df)\n",
    "        if z is None: return f, Df_cvx\n",
    "        H = np.zeros((c+bins,c+bins))\n",
    "        \n",
    "        #first do the theta_theta terms\n",
    "                \n",
    "        #first do N_0*tm**2, this will produce a ixm matrix where each term is Ni0 * tm**2.\n",
    "        Inner_term = N0*tm_matrix_squared\n",
    "        print Inner_term\n",
    "        #now multiply by a column vector form of w, this will do the multiplication by y, and also sum over m.\n",
    "        #you now have an ix1 matrix\n",
    "        Inner_term2 = np.sum(np.array(Inner_term)*np.array(np.exp(w)),axis=1)\n",
    "        print Inner_term2.shape\n",
    "        print s_hessian_mat.shape\n",
    "        #multiply by hessian matrix and sum over sequences...\n",
    "     \n",
    "        H_thetas_temp = Inner_term2*s_hessian_mat\n",
    "        \n",
    "        print H_thetas_temp.shape\n",
    "\n",
    "        \n",
    "        #now we need to reshape such to fill in these values\n",
    "        H[:c,:c] = H_thetas_temp.reshape((c,c),order='F')\n",
    "        \n",
    "        \n",
    "        #now do mixed terms with partials of gms and thetas\n",
    "        #first multiply the N0 counts by the exponential term. This will give you a matrix of ixm\n",
    "        Inner_term = np.array(N0)*np.array(np.matrix(np.exp(w)))\n",
    "        #now use element wise multiplication to multiply by the tms, this will broadcasts their value down the rows\n",
    "        Inner_term2 = np.array(tm)*Inner_term\n",
    "        #now convert back to matrix form and multiply by s. This sums over sequence while multiplying by si, and\n",
    "        #yeilds a matrix of dimension mxc\n",
    "        H_gm_theta_temp = np.transpose(np.matrix(Inner_term2))*s\n",
    "        H[c:c+bins,:c] = H_gm_theta_temp\n",
    "        \n",
    "        #now we are going to do the last bit, the partials with respect to the gms\n",
    "        \n",
    "        #we can use the same 'Inner term' as above N0*exp(gm+tm*sum(theta*s))\n",
    "        #sum over s\n",
    "        Temp_term = np.sum(Inner_term,axis=0)\n",
    "        ident = np.identity(bins)\n",
    "        #use array multiplication to broadcast multiply such that all off diagonal terms are 0 and\n",
    "        #the on diagonal terms are equal to sum(Ns0*exp(gm+sum(theta*s)))\n",
    "        H_gms = np.array(Temp_term)*ident\n",
    "        H[c:c+bins,c:c+bins] = H_gms\n",
    "        \n",
    "        \n",
    "        #now insure that H is symmetric across diagonal\n",
    "        for q in range(c+bins):\n",
    "            for k in range(q):\n",
    "                H[k,q] = H[q,k]\n",
    "        \n",
    "        H = cvxopt.matrix(z[0]*H)            \n",
    "                \n",
    "        return f, Df_cvx, H\n",
    "    return solvers.cp(F)['x']"
   ]
  },
  {
   "cell_type": "markdown",
   "metadata": {},
   "source": []
  },
  {
   "cell_type": "code",
   "execution_count": 51,
   "metadata": {
    "scrolled": true
   },
   "outputs": [
    {
     "name": "stdout",
     "output_type": "stream",
     "text": [
      "[     0      0   2582   5558  41966  41966  45151  48384  53202  53202\n",
      "  56311  59845  64630  67495  70024  72834  72834  76283  79092  79092\n",
      "  82947  85783  88186  91068  91068  94524  97564  97564 101308 101308\n",
      " 104525 108150 112310 115949 119268 119268 123679 126736 129529 132675\n",
      " 132675 135903 138648 141524 141524 141524 144677 148550 152975 156579\n",
      " 159902 159902 163626 167878 167878 171855 176515 179484 182016 184802\n",
      " 184802 188414 188414 191670 195733 195733 198765 202264 206534 210388\n",
      " 210388 213803 218027 222011 224729 227882 227882 232132 232132 235731\n",
      " 240175 240175 243362 246838 252170]\n"
     ]
    }
   ],
   "source": [
    "import mpathic.numerics as numerics\n",
    "df_pan = pd.io.parsers.read_csv('/media/bill/New_Volume/mpathic-master/data/formatted/sortseq/crp-wt-formatted.txt',delim_whitespace=True)\n",
    "df_pan['seq'] = df_pan['seq'].str.slice(3,24)\n",
    "seq_mat_array_pan,wtrow = numerics.dataset2mutarray(df_pan.copy(),'MAT')\n",
    "\n",
    "cols_for_keep = [x for x in range(seq_mat_array_pan.shape[1]) if x not in np.nonzero(wtrow)[0]]\n",
    "seq_mat_array_pan = seq_mat_array_pan.tocsc()\n",
    "seq_mat2 = seq_mat_array_pan[:,cols_for_keep]\n",
    "print seq_mat_array_pan.indptr"
   ]
  },
  {
   "cell_type": "code",
   "execution_count": 9,
   "metadata": {
    "collapsed": true
   },
   "outputs": [],
   "source": [
    "def test_iter(A, B):\n",
    "    m,n1 = A.shape\n",
    "    n2 = B.shape[1]\n",
    "    Cshape = (m, n1*n2)\n",
    "    #initialize our output sparse matrix data objects\n",
    "    data = np.empty((m,),dtype=object)\n",
    "    col =  np.empty((m,),dtype=object)\n",
    "    row =  np.empty((m,),dtype=object)\n",
    "    #do multiplication for each row\n",
    "    for i,(a,b) in enumerate(zip(A, B)):\n",
    "        #column indexes\n",
    "        col1 = a.indices * n2\n",
    "        col[i] = (col1[:,None]+b.indices).flatten()\n",
    "        row[i] = np.full((a.nnz*b.nnz,), i)\n",
    "        #all data will be 1's, as it is only true or false data\n",
    "        data[i] = np.ones(len(col[i]))\n",
    "    data = np.concatenate(data)\n",
    "    col = np.concatenate(col)\n",
    "    row = np.concatenate(row)\n",
    "    return sparse.coo_matrix((data,(row,col)),shape=Cshape)"
   ]
  },
  {
   "cell_type": "code",
   "execution_count": 10,
   "metadata": {
    "scrolled": true
   },
   "outputs": [
    {
     "name": "stdout",
     "output_type": "stream",
     "text": [
      "(45050, 9)\n"
     ]
    },
    {
     "ename": "NameError",
     "evalue": "name 'robls' is not defined",
     "output_type": "error",
     "traceback": [
      "\u001b[0;31m---------------------------------------------------------------------------\u001b[0m",
      "\u001b[0;31mNameError\u001b[0m                                 Traceback (most recent call last)",
      "\u001b[0;32m<ipython-input-10-95f6fa4f70b0>\u001b[0m in \u001b[0;36m<module>\u001b[0;34m()\u001b[0m\n\u001b[1;32m      7\u001b[0m \u001b[0mNsm\u001b[0m \u001b[0;34m=\u001b[0m \u001b[0mnp\u001b[0m\u001b[0;34m.\u001b[0m\u001b[0mmatrix\u001b[0m\u001b[0;34m(\u001b[0m\u001b[0mdf_pan\u001b[0m\u001b[0;34m[\u001b[0m\u001b[0;34m'ct_1'\u001b[0m\u001b[0;34m]\u001b[0m\u001b[0;34m)\u001b[0m\u001b[0;34m.\u001b[0m\u001b[0mT\u001b[0m\u001b[0;34m\u001b[0m\u001b[0m\n\u001b[1;32m      8\u001b[0m \u001b[0mtm\u001b[0m \u001b[0;34m=\u001b[0m \u001b[0mnp\u001b[0m\u001b[0;34m.\u001b[0m\u001b[0marray\u001b[0m\u001b[0;34m(\u001b[0m\u001b[0;34m[\u001b[0m\u001b[0;36m1\u001b[0m\u001b[0;34m]\u001b[0m\u001b[0;34m)\u001b[0m\u001b[0;34m\u001b[0m\u001b[0m\n\u001b[0;32m----> 9\u001b[0;31m \u001b[0moutput\u001b[0m \u001b[0;34m=\u001b[0m \u001b[0mrobls\u001b[0m\u001b[0;34m(\u001b[0m\u001b[0mseq_mat2\u001b[0m\u001b[0;34m,\u001b[0m\u001b[0mwtrow\u001b[0m\u001b[0;34m,\u001b[0m\u001b[0mN0\u001b[0m\u001b[0;34m,\u001b[0m\u001b[0mNsm\u001b[0m\u001b[0;34m,\u001b[0m\u001b[0mtm\u001b[0m\u001b[0;34m)\u001b[0m\u001b[0;34m\u001b[0m\u001b[0m\n\u001b[0m",
      "\u001b[0;31mNameError\u001b[0m: name 'robls' is not defined"
     ]
    }
   ],
   "source": [
    "import cvxopt\n",
    "import scipy as sp\n",
    "print seq_mat2.shape\n",
    "#q = seq_mat2.nonzero()\n",
    "#emcvx = cvxopt.spmatrix(seq_mat2.data,q[0],q[1])\n",
    "N0 = np.matrix(df_pan['ct_0']).T\n",
    "Nsm = np.matrix(df_pan['ct_1']).T\n",
    "tm = np.array([1])\n",
    "output = robls(seq_mat2,wtrow,N0,Nsm,tm)"
   ]
  },
  {
   "cell_type": "code",
   "execution_count": 97,
   "metadata": {
    "collapsed": true
   },
   "outputs": [],
   "source": [
    "def reverse_parameterization(output,wtrow,seq_dict,bins=1):\n",
    "    \n",
    "    output = output[:-bins]\n",
    "    cols_for_keep = np.where(wtrow==False)[0]\n",
    "    df_out = np.zeros(len(wtrow))\n",
    "    df_out.flat[cols_for_keep] = output\n",
    "    \n",
    "    df_out2 = df_out.reshape((len(seq_dict),len(df_out)/len(seq_dict)),order='F')\n",
    "    return df_out2"
   ]
  },
  {
   "cell_type": "code",
   "execution_count": 99,
   "metadata": {},
   "outputs": [
    {
     "name": "stdout",
     "output_type": "stream",
     "text": [
      "[[ 0.          0.          0.          0.41604718  0.23452911 -0.04367564\n",
      "   0.51505114  0.         -0.03732122  0.1913667  -0.06025818  0.\n",
      "  -0.17294478 -0.35119965  0.2082949   0.25656217  0.          0.09347678\n",
      "  -0.72590348 -0.50077798  0.         -0.0611443 ]\n",
      " [ 0.13677706  0.12417908 -0.02348784  0.27680913  0.50582905  0.02215633\n",
      "   0.51209808  0.26520922 -0.01754959  0.09950115  0.01933881 -0.06446618\n",
      "   0.15977853  0.          0.25777742  0.          0.20354249  0.\n",
      "   0.03097377  0.          0.49971326 -0.06643488]\n",
      " [ 0.14240891  0.1996765   0.22396656  0.47146383  0.          0.08284538\n",
      "   0.          0.34363172  0.         -0.08275695  0.32121498  0.07233987\n",
      "   0.          0.02248156  0.18067027  0.45802364  0.02199375  0.42078577\n",
      "  -0.18256252 -0.12118496  0.37408902  0.19966501]\n",
      " [-0.1398095  -0.23432475 -0.00866126  0.          0.23571744  0.\n",
      "   0.44838763  0.26019653 -0.2820036   0.          0.          0.02877254\n",
      "  -0.23679748 -0.36038511  0.          0.11045232  0.18686268  0.32632499\n",
      "   0.         -0.38283176 -0.14991258  0.        ]]\n"
     ]
    }
   ],
   "source": [
    "seq_dict,inv_dict = utils.choose_dict('dna')\n",
    "out_df = reverse_parameterization(output,wtrow,seq_dict)\n",
    "print out_df"
   ]
  },
  {
   "cell_type": "code",
   "execution_count": 11,
   "metadata": {
    "collapsed": true
   },
   "outputs": [],
   "source": [
    "import mpathic.utils as utils\n",
    "seq_dict,inv_dict = utils.choose_dict('dna')\n",
    "par_seq_dict = {v:k for v,k in seq_dict.items() if k != (len(seq_dict)-1)}\n",
    "def genweightandmat(weights_df,seq_dict,dicttype,means=None,modeltype='MAT'):\n",
    "    '''For use with learn_model, linear regressions. Generates a flattened\n",
    "         matrix representation of the sequences, with corresponding batch and \n",
    "         number of counts (in sequence weighting vector)'''\n",
    "    type_name_dict = {'dna':'seq','rna':'seq_rna','protein':'seq_pro'}\n",
    "    seq_col_name = type_name_dict[dicttype]\n",
    "    n_seqs = len(weights_df[seq_col_name])    \n",
    "    mut_region_length = len(weights_df[seq_col_name][0])\n",
    "    binheaders = get_column_headers(weights_df)\n",
    "    nbins=len(binheaders)\n",
    "    \n",
    "    if modeltype == 'MAT':\n",
    "         lasso_mat = sp.sparse.lil_matrix((n_seqs,len(seq_dict)*mut_region_length))\n",
    "    elif modeltype == 'NBR':\n",
    "         lasso_mat = sp.sparse.lil_matrix((n_seqs,len(seq_dict)*(mut_region_length-1)))\n",
    "    counter = 0\n",
    "    sample_weights = np.zeros(n_seqs)\n",
    "    batch = np.zeros(n_seqs)\n",
    "    \n",
    "    for i,s in enumerate(weights_df[seq_col_name]):\n",
    "             if modeltype == 'MAT':\n",
    "                 lasso_mat[i,:] = utils.seq2matsparse(s,seq_dict)\n",
    "             elif modeltype == 'NBR':\n",
    "                 lasso_mat[i,:] = utils.seq2mat_sparse_neighbor(s,seq_dict)\n",
    "             else:\n",
    "                  raise ValueError('Incorrect Model Type')\n",
    "             '''Find mean batch number for each sequence. If means is supplied,\n",
    "                 instead find a weighted average.'''   \n",
    "             if isinstance(means,pd.Series):\n",
    "                 batch[i] = np.sum([weights_df[z][i]*means[z] for z in means.index]/(weights_df['ct'][i]))\n",
    "             else:  \n",
    "                 batch[i] = np.sum([weights_df[binheaders[z]][i]*z for z in range(nbins)]/weights_df['ct'][i])\n",
    "             sample_weights[i] = weights_df['ct'][i]\n",
    "             \n",
    "    return sp.sparse.csr_matrix(lasso_mat),batch,sample_weights"
   ]
  },
  {
   "cell_type": "code",
   "execution_count": null,
   "metadata": {
    "collapsed": true
   },
   "outputs": [],
   "source": [
    "import numpy.linalg\n",
    "import mpathic\n",
    "df_lasso,batch,weights\n",
    "a = np.transpose(seq_mat_array_pan)\n",
    "a.shape"
   ]
  },
  {
   "cell_type": "code",
   "execution_count": 52,
   "metadata": {
    "collapsed": true
   },
   "outputs": [],
   "source": [
    "seq_mat_array_pan,wtrow = numerics.dataset2mutarray(df_pan.copy(),'NBR')"
   ]
  },
  {
   "cell_type": "code",
   "execution_count": 66,
   "metadata": {},
   "outputs": [
    {
     "name": "stdout",
     "output_type": "stream",
     "text": [
      "AAAAGTGAGATGGCAATCTAA\n",
      "[[    0   202   213   311  1931   177   208   266  2201   213   240   322\n",
      "  27324  2593  2572  3919     0  2301  2651  3593  2369   225   247   344\n",
      "   2360   228   278   367  3624   355   358   481  2129  1895  2056     0\n",
      "    222   153   210  2524   226   192   224  2892   288   289   320  3888\n",
      "    243   208  2122   292   197   181  1930   221   211   169  2166   264\n",
      "   2798  2251     0  3078   209   199   203  2838   229   174   187  2219\n",
      "   2139  1828  2179     0   259   202   313  3081   244   204  2153   235\n",
      "    211   179  1821   192   244   199  2197   242  2757  2458     0  3075\n",
      "   2539   263   307   347  2268   226   239   307     0  2458  2762  3147\n",
      "   2798   270   317   359  2713  2558     0  3366   311   202  2419   285\n",
      "    269   239  2750   367   346   320  3101   393   245   220   321  2853\n",
      "    220   219   234  2646  2259  2072  2329     0   333   282   262  3534\n",
      "    214   186   183  2474   219   178   161  2235   217   176   203  2550\n",
      "   2578  2205  2329     0  2324   234   334   336  2111   174   222   238\n",
      "   2073   225   253   325     0  2520  3064  3526  2646  2442     0  2822\n",
      "    278   228  2395   252   292   332  2946   303   388   321  3369   347\n",
      "    321  2590   316   377   355  2295   287   386  3197     0  3066  3533\n",
      "    379  2673   308   364   223   200   245  3584  2265  1789  2006     0\n",
      "    208   233   255  3281   273   310   280  3797   257  2198   248   266\n",
      "    292  1786   188   266   218  2069   220   279  2845     0  2600  3252\n",
      "   2620   312   290   390     0  2159  2473  3085  2372   250   285   349\n",
      "   2855   311   451   446  2867     0  2518  3135   324  2103   253   352\n",
      "    288  2597   293   321   375  3128   351   416   288   257   257  3052\n",
      "   3181  1953  2387     0   207   201   205  2802   308   307   304  3305\n",
      "    383  2904   328   369   319  1912   199   288   266  2299   275   313\n",
      "   3282     0  2797  3474  3069   282   342   557     0  2308  2488  3768\n",
      "   2592   248   318   441  3201   349   328   566]]\n"
     ]
    }
   ],
   "source": [
    "print(df_pan.seq[0])\n",
    "print seq_mat_array_pan.sum(axis=0)"
   ]
  },
  {
   "cell_type": "code",
   "execution_count": 23,
   "metadata": {},
   "outputs": [],
   "source": [
    "seq_dict,inv_dict = utils.choose_dict('dna',modeltype='NBR')\n",
    "par_seq_dict = {v:k for v,k in seq_dict.items() if k != (len(seq_dict)-1)}\n",
    "raveledmat,batch,sw = utils.genweightandmat(\n",
    "                                  df_pan,par_seq_dict,'dna',means=None,modeltype='NBR')"
   ]
  },
  {
   "cell_type": "code",
   "execution_count": 29,
   "metadata": {},
   "outputs": [
    {
     "data": {
      "text/plain": [
       "27"
      ]
     },
     "execution_count": 29,
     "metadata": {},
     "output_type": "execute_result"
    }
   ],
   "source": [
    "np.linalg.matrix_rank(raveledmat.todense())"
   ]
  },
  {
   "cell_type": "code",
   "execution_count": 15,
   "metadata": {},
   "outputs": [
    {
     "data": {
      "text/plain": [
       "matrix([[    0,   202,   213,   311,  1931,   177,   208,   266,  2201,\n",
       "           213,   240,   322, 27324,  2593,  2572,  3919,     0,  2301,\n",
       "          2651,  3593,  2369,   225,   247,   344,  2360,   228,   278,\n",
       "           367,  3624,   355,   358,   481,  2129,  1895,  2056,     0,\n",
       "           222,   153,   210,  2524,   226,   192,   224,  2892,   288,\n",
       "           289,   320,  3888,   243,   208,  2122,   292,   197,   181,\n",
       "          1930,   221,   211,   169,  2166,   264,  2798,  2251,     0,\n",
       "          3078,   209,   199,   203,  2838,   229,   174,   187,  2219,\n",
       "          2139,  1828,  2179,     0,   259,   202,   313,  3081,   244,\n",
       "           204,  2153,   235,   211,   179,  1821,   192,   244,   199,\n",
       "          2197,   242,  2757,  2458,     0,  3075,  2539,   263,   307,\n",
       "           347,  2268,   226,   239,   307,     0,  2458,  2762,  3147,\n",
       "          2798,   270,   317,   359,  2713,  2558,     0,  3366,   311,\n",
       "           202,  2419,   285,   269,   239,  2750,   367,   346,   320,\n",
       "          3101,   393,   245,   220,   321,  2853,   220,   219,   234,\n",
       "          2646,  2259,  2072,  2329,     0,   333,   282,   262,  3534,\n",
       "           214,   186,   183,  2474,   219,   178,   161,  2235,   217,\n",
       "           176,   203,  2550,  2578,  2205,  2329,     0,  2324,   234,\n",
       "           334,   336,  2111,   174,   222,   238,  2073,   225,   253,\n",
       "           325,     0,  2520,  3064,  3526,  2646,  2442,     0,  2822,\n",
       "           278,   228,  2395,   252,   292,   332,  2946,   303,   388,\n",
       "           321,  3369,   347,   321,  2590,   316,   377,   355,  2295,\n",
       "           287,   386,  3197,     0,  3066,  3533,   379,  2673,   308,\n",
       "           364,   223,   200,   245,  3584,  2265,  1789,  2006,     0,\n",
       "           208,   233,   255,  3281,   273,   310,   280,  3797,   257,\n",
       "          2198,   248,   266,   292,  1786,   188,   266,   218,  2069,\n",
       "           220,   279,  2845,     0,  2600,  3252,  2620,   312,   290,\n",
       "           390,     0,  2159,  2473,  3085,  2372,   250,   285,   349,\n",
       "          2855,   311,   451,   446,  2867,     0,  2518,  3135,   324,\n",
       "          2103,   253,   352,   288,  2597,   293,   321,   375,  3128,\n",
       "           351,   416,   288,   257,   257,  3052,  3181,  1953,  2387,\n",
       "             0,   207,   201,   205,  2802,   308,   307,   304,  3305,\n",
       "           383,  2904,   328,   369,   319,  1912,   199,   288,   266,\n",
       "          2299,   275,   313,  3282,     0,  2797,  3474,  3069,   282,\n",
       "           342,   557,     0,  2308,  2488,  3768,  2592,   248,   318,\n",
       "           441,  3201,   349,   328,   566,  2432,  1913,  1877,     0,\n",
       "           247,   172,   190,  2578,   240,   226,   232,  2778,   348,\n",
       "           275,   299,  4410]])"
      ]
     },
     "execution_count": 15,
     "metadata": {},
     "output_type": "execute_result"
    }
   ],
   "source": [
    "seq_mat_array_pan.sum(axis=0)"
   ]
  },
  {
   "cell_type": "code",
   "execution_count": 53,
   "metadata": {},
   "outputs": [
    {
     "name": "stdout",
     "output_type": "stream",
     "text": [
      "300\n"
     ]
    }
   ],
   "source": [
    "no_reps = np.sum(np.matrix(df_pan['ct_0'])*seq_mat_array_pan,axis=0)\n",
    "print len(np.nonzero(no_reps)[1])\n",
    "#cols_for_keep = [x for x in range(seq_mat.shape[1]) if x not in np.nonzero(wtrow)[0]]\n",
    "cols_for_keep = [x for x in range(seq_mat_array_pan.shape[1]) if x in np.nonzero(no_reps)[1]]"
   ]
  },
  {
   "cell_type": "code",
   "execution_count": 54,
   "metadata": {
    "collapsed": true
   },
   "outputs": [],
   "source": [
    "seq_mat_array_pan2 = seq_mat_array_pan[:,cols_for_keep]"
   ]
  },
  {
   "cell_type": "code",
   "execution_count": 55,
   "metadata": {},
   "outputs": [
    {
     "data": {
      "text/plain": [
       "243"
      ]
     },
     "execution_count": 55,
     "metadata": {},
     "output_type": "execute_result"
    }
   ],
   "source": [
    "np.linalg.matrix_rank(seq_mat_array_pan2.todense())"
   ]
  },
  {
   "cell_type": "code",
   "execution_count": 58,
   "metadata": {},
   "outputs": [
    {
     "data": {
      "text/plain": [
       "(45050, 300)"
      ]
     },
     "execution_count": 58,
     "metadata": {},
     "output_type": "execute_result"
    }
   ],
   "source": [
    "seq_mat_array_pan2.shape"
   ]
  },
  {
   "cell_type": "code",
   "execution_count": 28,
   "metadata": {},
   "outputs": [
    {
     "data": {
      "text/plain": [
       "matrix([[    0.,    31.,    29.,    39.,   251.,    27.,    33.,    31.,\n",
       "           287.,    19.,    28.,    35.,  3449.,   348.,   363.,   569.,\n",
       "             0.,   304.,   334.,   423.,   338.,    17.,    26.,    44.,\n",
       "           345.,    24.,    20.,    64.,   529.,    44.,    47.,    54.,\n",
       "           251.,   246.,   283.,     0.,    36.,    18.,    33.,   302.,\n",
       "            21.,    25.,    24.,   357.,    31.,    39.,    40.,   475.,\n",
       "            25.,    25.,   267.,    22.,    27.,    26.,   244.,    31.,\n",
       "            36.,    27.,   277.,    40.,   385.,   318.,     0.,   456.,\n",
       "            31.,    31.,    20.,   391.,    36.,    16.,    33.,   311.,\n",
       "           317.,   308.,   352.,     0.,    36.,    23.,    39.,   451.,\n",
       "            44.,    27.,   323.,    26.,    25.,    27.,   298.,    28.,\n",
       "            46.,    35.,   333.,    30.,   377.,   343.,     0.,   430.,\n",
       "           351.,    44.,    49.,    48.,   321.,    24.,    39.,    48.,\n",
       "             0.,   331.,   371.,   453.,   393.,    42.,    22.,    57.,\n",
       "           320.,   282.,     0.,   409.,    42.,    26.,   336.,    37.,\n",
       "            28.,    29.,   372.,    52.,    44.,    51.,   454.,    57.,\n",
       "            28.,    33.,    29.,   344.,    26.,    17.,    16.,   329.,\n",
       "           280.,   250.,   354.,     0.,    40.,    14.,    43.,   458.,\n",
       "            25.,    18.,    14.,   317.,    29.,    22.,    14.,   249.,\n",
       "            27.,    28.,    31.,   356.,   339.,   321.,   277.,     0.,\n",
       "           325.,    24.,    41.,    30.,   276.,    45.,    24.,    44.,\n",
       "           243.,    31.,    31.,    31.,     0.,   357.,   384.,   478.,\n",
       "           373.,   303.,     0.,   385.,    43.,    37.,   338.,    39.,\n",
       "            58.,    39.,   343.,    40.,    62.,    33.,   422.,    66.,\n",
       "            36.,   375.,    49.,    76.,    45.,   302.,    31.,    34.,\n",
       "           344.,     0.,   351.,   472.,    61.,   384.,    29.,    56.,\n",
       "            17.,    33.,    34.,   402.,   368.,   250.,   283.,     0.,\n",
       "            34.,    33.,    42.,   351.,    45.,    35.,    45.,   513.,\n",
       "            43.,   331.,    54.,    36.,    43.,   243.,    30.,    35.,\n",
       "            34.,   298.,    33.,    39.,   421.,     0.,   354.,   414.,\n",
       "           414.,    43.,    32.,    52.,     0.,   318.,   352.,   430.,\n",
       "           328.,    51.,    46.,    46.,   400.,    41.,    38.,    45.,\n",
       "           397.,     0.,   355.,   423.,    48.,   330.,    39.,    36.,\n",
       "            25.,   355.,    46.,    42.,    59.,   407.,    47.,    60.,\n",
       "            26.,    25.,    23.,   455.,   278.,   253.,   258.,     0.,\n",
       "            31.,    46.,    32.,   378.,    21.,    37.,    21.,   482.,\n",
       "            28.,   269.,    32.,    27.,    35.,   251.,    35.,    40.,\n",
       "            30.,   244.,    36.,    24.,   411.,     0.,   373.,   498.,\n",
       "           364.,    33.,    47.,    60.,     0.,   282.,   342.,   374.,\n",
       "           366.,    28.,    43.,    39.,   421.,    44.,    36.,    88.,\n",
       "           316.,   270.,   263.,     0.,    27.,    34.,    25.,   301.,\n",
       "            17.,    34.,    38.,   379.,    41.,    39.,    45.,   436.]])"
      ]
     },
     "execution_count": 28,
     "metadata": {},
     "output_type": "execute_result"
    }
   ],
   "source": [
    "np.sum(np.matrix(df_pan['ct_0'])*seq_mat_array_pan,axis=0)"
   ]
  },
  {
   "cell_type": "code",
   "execution_count": 24,
   "metadata": {},
   "outputs": [
    {
     "data": {
      "text/plain": [
       "matrix([[  202,   213,   311,  1931,   177,   208,   266,  2201,   213,\n",
       "           240,   322, 27324,  2593,  2572,  3919,  2301,  2651,  3593,\n",
       "          2369,   225,   247,   344,  2360,   228,   278,   367,  3624,\n",
       "           355,   358,   481,  2129,  1895,  2056,   222,   153,   210,\n",
       "          2524,   226,   192,   224,  2892,   288,   289,   320,  3888,\n",
       "           243,   208,  2122,   292,   197,   181,  1930,   221,   211,\n",
       "           169,  2166,   264,  2798,  2251,  3078,   209,   199,   203,\n",
       "          2838,   229,   174,   187,  2219,  2139,  1828,  2179,   259,\n",
       "           202,   313,  3081,   244,   204,  2153,   235,   211,   179,\n",
       "          1821,   192,   244,   199,  2197,   242,  2757,  2458,  3075,\n",
       "          2539,   263,   307,   347,  2268,   226,   239,   307,  2458,\n",
       "          2762,  3147,  2798,   270,   317,   359,  2713,  2558,  3366,\n",
       "           311,   202,  2419,   285,   269,   239,  2750,   367,   346,\n",
       "           320,  3101,   393,   245,   220,   321,  2853,   220,   219,\n",
       "           234,  2646,  2259,  2072,  2329,   333,   282,   262,  3534,\n",
       "           214,   186,   183,  2474,   219,   178,   161,  2235,   217,\n",
       "           176,   203,  2550,  2578,  2205,  2329,  2324,   234,   334,\n",
       "           336,  2111,   174,   222,   238,  2073,   225,   253,   325,\n",
       "          2520,  3064,  3526,  2646,  2442,  2822,   278,   228,  2395,\n",
       "           252,   292,   332,  2946,   303,   388,   321,  3369,   347,\n",
       "           321,  2590,   316,   377,   355,  2295,   287,   386,  3197,\n",
       "          3066,  3533,   379,  2673,   308,   364,   223,   200,   245,\n",
       "          3584,  2265,  1789,  2006,   208,   233,   255,  3281,   273,\n",
       "           310,   280,  3797,   257,  2198,   248,   266,   292,  1786,\n",
       "           188,   266,   218,  2069,   220,   279,  2845,  2600,  3252,\n",
       "          2620,   312,   290,   390,  2159,  2473,  3085,  2372,   250,\n",
       "           285,   349,  2855,   311,   451,   446,  2867,  2518,  3135,\n",
       "           324,  2103,   253,   352,   288,  2597,   293,   321,   375,\n",
       "          3128,   351,   416,   288,   257,   257,  3052,  3181,  1953,\n",
       "          2387,   207,   201,   205,  2802,   308,   307,   304,  3305,\n",
       "           383,  2904,   328,   369,   319,  1912,   199,   288,   266,\n",
       "          2299,   275,   313,  3282,  2797,  3474,  3069,   282,   342,\n",
       "           557,  2308,  2488,  3768,  2592,   248,   318,   441,  3201,\n",
       "           349,   328,   566,  2432,  1913,  1877,   247,   172,   190,\n",
       "          2578,   240,   226,   232,  2778,   348,   275,   299,  4410]])"
      ]
     },
     "execution_count": 24,
     "metadata": {},
     "output_type": "execute_result"
    }
   ],
   "source": [
    "seq_mat_array_pan2.sum(axis=0)"
   ]
  },
  {
   "cell_type": "code",
   "execution_count": 27,
   "metadata": {},
   "outputs": [
    {
     "data": {
      "text/plain": [
       "matrix([[0, 0, 0, 0, 0, 0, 0, 0, 0, 0, 0, 0, 0, 0, 0, 0, 0, 0, 0, 0, 0, 0,\n",
       "         0, 0, 0, 0, 0, 0, 0, 0, 1, 0, 0, 0, 0, 0, 0, 0, 0, 0, 0, 0, 0, 0,\n",
       "         0, 0, 0, 1, 0, 0, 0, 0, 0, 0, 0, 0, 0, 0, 0, 0, 0, 0, 0, 0, 0, 0,\n",
       "         0, 0, 0, 0, 0, 0, 0, 0, 0, 0, 0, 0, 0, 0, 0, 0, 0, 0, 0, 0, 0, 0,\n",
       "         0, 0, 0, 0, 0, 0, 0, 0, 0, 0, 0, 0, 0, 0, 0, 0, 0, 0, 0, 0, 0, 0,\n",
       "         0, 0, 0, 0, 0, 0, 0, 0, 0, 0, 0, 0, 0, 0, 0, 0, 0, 0, 1, 0, 0, 0,\n",
       "         0, 0, 0, 0, 0, 0, 1, 0, 0, 0, 0, 0, 0, 0, 0, 0, 0, 0, 0, 0, 0, 0,\n",
       "         0, 0, 0, 0, 0, 0, 0, 0, 0, 1, 0, 0, 0, 0, 0, 0, 0, 0, 0, 0, 1, 0,\n",
       "         0, 0, 0, 0, 0, 0, 0, 0, 0, 0, 0, 0, 0, 0, 0, 0, 0, 0, 0, 0, 0, 0,\n",
       "         0, 1, 0, 0, 0, 0, 0, 0, 0, 0, 0, 0, 1, 0, 0, 0, 0, 0, 0, 0, 0, 0,\n",
       "         0, 0, 0, 0, 0, 0, 0, 0, 1, 0, 0, 0, 0, 0, 0, 0, 0, 0, 0, 0, 0, 0,\n",
       "         0, 0, 0, 0, 0, 0, 0, 0, 0, 0, 1, 0, 0, 0, 0, 0, 0, 0, 0, 0, 0, 0,\n",
       "         0, 0, 0, 0, 0, 0, 0, 0, 0, 0, 0, 0, 0, 0, 0, 0, 0, 0, 1, 0, 0, 1,\n",
       "         0, 0, 0, 0, 0, 0, 0, 0, 0, 0, 0, 0, 0, 0, 0, 0, 0, 0, 0, 0, 0, 0,\n",
       "         0, 0, 0, 0, 0, 0, 0]])"
      ]
     },
     "execution_count": 27,
     "metadata": {},
     "output_type": "execute_result"
    }
   ],
   "source": [
    "seq_mat_array_pan2[0,:].todense()"
   ]
  },
  {
   "cell_type": "code",
   "execution_count": null,
   "metadata": {
    "collapsed": true
   },
   "outputs": [],
   "source": []
  }
 ],
 "metadata": {
  "kernelspec": {
   "display_name": "Python 2",
   "language": "python",
   "name": "python2"
  },
  "language_info": {
   "codemirror_mode": {
    "name": "ipython",
    "version": 2
   },
   "file_extension": ".py",
   "mimetype": "text/x-python",
   "name": "python",
   "nbconvert_exporter": "python",
   "pygments_lexer": "ipython2",
   "version": "2.7.13"
  }
 },
 "nbformat": 4,
 "nbformat_minor": 2
}

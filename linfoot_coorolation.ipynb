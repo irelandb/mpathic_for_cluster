{
 "cells": [
  {
   "cell_type": "code",
   "execution_count": 1,
   "metadata": {
    "collapsed": true
   },
   "outputs": [],
   "source": [
    "import pandas as pd\n",
    "import mpathic.utils as utils\n",
    "import numpy as np\n",
    "import scipy as sp"
   ]
  },
  {
   "cell_type": "code",
   "execution_count": 2,
   "metadata": {},
   "outputs": [
    {
     "data": {
      "text/plain": [
       "array([87302, 87310, 87137, 87944, 87423, 88027, 87427, 87118, 87436,\n",
       "       87605, 87353, 88028, 87584, 87159, 87188, 87822, 86975, 87172,\n",
       "       87098, 87083])"
      ]
     },
     "execution_count": 2,
     "metadata": {},
     "output_type": "execute_result"
    }
   ],
   "source": [
    "np.random.poisson(lam=87444,size=20)"
   ]
  },
  {
   "cell_type": "code",
   "execution_count": 3,
   "metadata": {},
   "outputs": [
    {
     "ename": "NameError",
     "evalue": "name 'df' is not defined",
     "output_type": "error",
     "traceback": [
      "\u001b[0;31m---------------------------------------------------------------------------\u001b[0m",
      "\u001b[0;31mNameError\u001b[0m                                 Traceback (most recent call last)",
      "\u001b[0;32m<ipython-input-3-445587eb9844>\u001b[0m in \u001b[0;36m<module>\u001b[0;34m()\u001b[0m\n\u001b[0;32m----> 1\u001b[0;31m \u001b[0mcolumns\u001b[0m \u001b[0;34m=\u001b[0m \u001b[0mdf\u001b[0m\u001b[0;34m.\u001b[0m\u001b[0mcolumns\u001b[0m\u001b[0;34m\u001b[0m\u001b[0m\n\u001b[0m",
      "\u001b[0;31mNameError\u001b[0m: name 'df' is not defined"
     ]
    }
   ],
   "source": [
    "columns = df.columns"
   ]
  },
  {
   "cell_type": "code",
   "execution_count": 5,
   "metadata": {
    "collapsed": true
   },
   "outputs": [],
   "source": [
    "def linfoot(s):\n",
    "    return (1-2**(-2*s))"
   ]
  },
  {
   "cell_type": "code",
   "execution_count": 7,
   "metadata": {},
   "outputs": [],
   "source": [
    "name = '/media/bill/New_Volume/analysis/double_comp2'\n",
    "df = pd.io.parsers.read_csv(name,delim_whitespace=True)\n",
    "columns = df.columns\n",
    "columns_for_apply = columns[1:]\n",
    "df[columns_for_apply] = df[columns_for_apply].applymap(linfoot)\n",
    "df.to_string(\n",
    "        open(name+'_linfoot','w'), index=False,col_space=10,float_format=utils.format_string)"
   ]
  },
  {
   "cell_type": "code",
   "execution_count": 7,
   "metadata": {},
   "outputs": [
    {
     "data": {
      "text/html": [
       "<div>\n",
       "<style>\n",
       "    .dataframe thead tr:only-child th {\n",
       "        text-align: right;\n",
       "    }\n",
       "\n",
       "    .dataframe thead th {\n",
       "        text-align: left;\n",
       "    }\n",
       "\n",
       "    .dataframe tbody tr th {\n",
       "        vertical-align: top;\n",
       "    }\n",
       "</style>\n",
       "<table border=\"1\" class=\"dataframe\">\n",
       "  <thead>\n",
       "    <tr style=\"text-align: right;\">\n",
       "      <th></th>\n",
       "      <th>Training/Test</th>\n",
       "      <th>MPRA_Train</th>\n",
       "      <th>MPRA_Test</th>\n",
       "    </tr>\n",
       "  </thead>\n",
       "  <tbody>\n",
       "    <tr>\n",
       "      <th>0</th>\n",
       "      <td>Neighbor_LS_Rep1</td>\n",
       "      <td>0.123377</td>\n",
       "      <td>0.073967</td>\n",
       "    </tr>\n",
       "    <tr>\n",
       "      <th>1</th>\n",
       "      <td>MCMC_Linear_Rep1</td>\n",
       "      <td>0.132643</td>\n",
       "      <td>0.079828</td>\n",
       "    </tr>\n",
       "    <tr>\n",
       "      <th>2</th>\n",
       "      <td>Linear_LS_Rep1</td>\n",
       "      <td>0.123715</td>\n",
       "      <td>0.073955</td>\n",
       "    </tr>\n",
       "    <tr>\n",
       "      <th>3</th>\n",
       "      <td>dms_Rep1</td>\n",
       "      <td>0.130006</td>\n",
       "      <td>0.078256</td>\n",
       "    </tr>\n",
       "    <tr>\n",
       "      <th>4</th>\n",
       "      <td>Rep1_ratio_estimation</td>\n",
       "      <td>0.130006</td>\n",
       "      <td>0.078257</td>\n",
       "    </tr>\n",
       "    <tr>\n",
       "      <th>5</th>\n",
       "      <td>BVH_Rep1</td>\n",
       "      <td>0.130007</td>\n",
       "      <td>0.078257</td>\n",
       "    </tr>\n",
       "    <tr>\n",
       "      <th>6</th>\n",
       "      <td>Induced_QSAM</td>\n",
       "      <td>0.130804</td>\n",
       "      <td>0.079142</td>\n",
       "    </tr>\n",
       "    <tr>\n",
       "      <th>7</th>\n",
       "      <td>Uninduced_QSAM</td>\n",
       "      <td>0.026700</td>\n",
       "      <td>0.016029</td>\n",
       "    </tr>\n",
       "    <tr>\n",
       "      <th>8</th>\n",
       "      <td>Neighbor_LS_Rep2</td>\n",
       "      <td>0.121051</td>\n",
       "      <td>0.074205</td>\n",
       "    </tr>\n",
       "    <tr>\n",
       "      <th>9</th>\n",
       "      <td>MCMC_Linear_Rep2</td>\n",
       "      <td>0.132046</td>\n",
       "      <td>0.080252</td>\n",
       "    </tr>\n",
       "    <tr>\n",
       "      <th>10</th>\n",
       "      <td>Linear_LS_Rep2</td>\n",
       "      <td>0.122574</td>\n",
       "      <td>0.074325</td>\n",
       "    </tr>\n",
       "    <tr>\n",
       "      <th>11</th>\n",
       "      <td>BVH_Rep2</td>\n",
       "      <td>0.128367</td>\n",
       "      <td>0.078150</td>\n",
       "    </tr>\n",
       "    <tr>\n",
       "      <th>12</th>\n",
       "      <td>Rep2_ratio_estimation</td>\n",
       "      <td>0.128369</td>\n",
       "      <td>0.078150</td>\n",
       "    </tr>\n",
       "    <tr>\n",
       "      <th>13</th>\n",
       "      <td>dms_Rep2</td>\n",
       "      <td>0.128369</td>\n",
       "      <td>0.078150</td>\n",
       "    </tr>\n",
       "  </tbody>\n",
       "</table>\n",
       "</div>"
      ],
      "text/plain": [
       "            Training/Test  MPRA_Train  MPRA_Test\n",
       "0        Neighbor_LS_Rep1    0.123377   0.073967\n",
       "1        MCMC_Linear_Rep1    0.132643   0.079828\n",
       "2          Linear_LS_Rep1    0.123715   0.073955\n",
       "3                dms_Rep1    0.130006   0.078256\n",
       "4   Rep1_ratio_estimation    0.130006   0.078257\n",
       "5                BVH_Rep1    0.130007   0.078257\n",
       "6            Induced_QSAM    0.130804   0.079142\n",
       "7          Uninduced_QSAM    0.026700   0.016029\n",
       "8        Neighbor_LS_Rep2    0.121051   0.074205\n",
       "9        MCMC_Linear_Rep2    0.132046   0.080252\n",
       "10         Linear_LS_Rep2    0.122574   0.074325\n",
       "11               BVH_Rep2    0.128367   0.078150\n",
       "12  Rep2_ratio_estimation    0.128369   0.078150\n",
       "13               dms_Rep2    0.128369   0.078150"
      ]
     },
     "execution_count": 7,
     "metadata": {},
     "output_type": "execute_result"
    }
   ],
   "source": [
    "df"
   ]
  },
  {
   "cell_type": "code",
   "execution_count": 8,
   "metadata": {},
   "outputs": [
    {
     "ename": "AttributeError",
     "evalue": "'module' object has no attribute 'Poisson'",
     "output_type": "error",
     "traceback": [
      "\u001b[0;31m---------------------------------------------------------------------------\u001b[0m",
      "\u001b[0;31mAttributeError\u001b[0m                            Traceback (most recent call last)",
      "\u001b[0;32m<ipython-input-8-b1b424c48ec9>\u001b[0m in \u001b[0;36m<module>\u001b[0;34m()\u001b[0m\n\u001b[0;32m----> 1\u001b[0;31m \u001b[0mnp\u001b[0m\u001b[0;34m.\u001b[0m\u001b[0mrandom\u001b[0m\u001b[0;34m.\u001b[0m\u001b[0mPoisson\u001b[0m\u001b[0;34m(\u001b[0m\u001b[0;36m1\u001b[0m\u001b[0;34m)\u001b[0m\u001b[0;34m\u001b[0m\u001b[0m\n\u001b[0m",
      "\u001b[0;31mAttributeError\u001b[0m: 'module' object has no attribute 'Poisson'"
     ]
    }
   ],
   "source": [
    "np.random.Poisson(1)"
   ]
  },
  {
   "cell_type": "code",
   "execution_count": null,
   "metadata": {
    "collapsed": true
   },
   "outputs": [],
   "source": []
  },
  {
   "cell_type": "code",
   "execution_count": null,
   "metadata": {
    "collapsed": true
   },
   "outputs": [],
   "source": []
  }
 ],
 "metadata": {
  "kernelspec": {
   "display_name": "Python 2",
   "language": "python",
   "name": "python2"
  },
  "language_info": {
   "codemirror_mode": {
    "name": "ipython",
    "version": 2
   },
   "file_extension": ".py",
   "mimetype": "text/x-python",
   "name": "python",
   "nbconvert_exporter": "python",
   "pygments_lexer": "ipython2",
   "version": "2.7.13"
  }
 },
 "nbformat": 4,
 "nbformat_minor": 2
}
